{
 "cells": [
  {
   "cell_type": "markdown",
   "metadata": {},
   "source": [
    "### Algorithms and Applications in Social Networks - HW2"
   ]
  },
  {
   "cell_type": "markdown",
   "metadata": {},
   "source": [
    "Packages imports for all questions' code below:"
   ]
  },
  {
   "cell_type": "code",
   "execution_count": 19,
   "metadata": {},
   "outputs": [],
   "source": [
    "import networkx as nx"
   ]
  },
  {
   "cell_type": "markdown",
   "metadata": {},
   "source": [
    "### Q1\n",
    "a. Implement Newman-Girvan algorithm for non-overlapping communities. The algorithm should receive a network and parameter k (number of communities) and return the communities."
   ]
  },
  {
   "cell_type": "code",
   "execution_count": 20,
   "metadata": {},
   "outputs": [],
   "source": [
    "def newman_girvan(G, k):\n",
    "    g = G.copy() #in order not to affect the original graph.\n",
    "    communities_num = nx.number_connected_components(g)\n",
    "    while communities_num < k:\n",
    "        ebc = nx.edge_betweenness_centrality(g) #compute edge betweenness for all edges.\n",
    "        max_bw = max(ebc.values()) #find max value of edge betweenness.\n",
    "        #find arbitrary edge with the largest edge betweenes and remove it.\n",
    "        max_val = 0.0\n",
    "        for edge, val in ebc.items():\n",
    "            if val > max_val:\n",
    "                max_val = val\n",
    "                max_edge = edge\n",
    "        g.remove_edge(*max_edge) #remove the chosen edge.\n",
    "        communities_num = nx.number_connected_components(g) #recalculate the nubmer of cc. \n",
    "    communities = nx.connected_components(g)\n",
    "    return communities"
   ]
  },
  {
   "cell_type": "markdown",
   "metadata": {},
   "source": [
    "b. Run this algorithm on the biggest connected component of the following dataset: https://bit.ly/2KLHN60 (with k=3). Each line of the file represents an edge between two nodes."
   ]
  },
  {
   "cell_type": "code",
   "execution_count": 21,
   "metadata": {},
   "outputs": [],
   "source": [
    "def run_communities_algorithm(file, algorithm, k):\n",
    "    g = nx.read_edgelist(file)\n",
    "    biggest_cc_set = max(nx.connected_components(g), key=len)\n",
    "    biggest_cc_graph = g.subgraph(biggest_cc_set).copy()\n",
    "    communities = [c for c in algorithm(biggest_cc_graph, k)]\n",
    "    algorithm_name = str(algorithm).split()[1].title().replace(\"_\", \" \")\n",
    "    print(f\"The communities found by {algorithm_name} are:\")\n",
    "    for i, community in enumerate(communities):\n",
    "        print(f\"community #{i} :\")\n",
    "        print(set(community))"
   ]
  },
  {
   "cell_type": "code",
   "execution_count": 22,
   "metadata": {},
   "outputs": [
    {
     "name": "stdout",
     "output_type": "stream",
     "text": [
      "The communities found by Newman Girvan are:\n",
      "community #0 :\n",
      "{'79', '30', '257', '69', '119', '77', '268', '207', '236', '272', '118', '283', '208', '265', '269', '161', '332', '117', '286', '36', '94', '184', '64', '38', '203', '53', '120', '142', '276', '85', '40', '315', '130', '303', '106', '213', '83', '26', '291', '135', '153', '58', '217', '80', '223', '148', '72', '98', '248', '204', '202', '339', '322', '48', '185', '221', '281', '251', '108', '136', '54', '81', '126', '123', '274', '163', '141', '57', '165', '196', '190', '334', '176', '313', '330', '308', '229', '254', '125', '31', '88', '288', '249', '200', '338', '316', '280', '173', '150', '329', '10', '172', '63', '242', '25', '183', '270', '55', '158', '246', '317', '340', '50', '300', '222', '105', '1', '238', '39', '206', '128', '186', '75', '146', '60', '271', '285', '344', '113', '56', '51', '346', '239', '103', '159', '235', '139', '224', '260', '13', '258', '24', '171', '166', '133', '96', '231', '134', '164', '297', '320', '3', '9', '295', '29', '82', '302', '298', '59', '191', '187', '178', '65', '250', '294', '107', '261', '228', '121', '66', '67', '101', '197', '314', '347', '27', '129', '127', '169', '211', '22', '34', '45', '100', '266', '304', '277', '234', '331', '237', '132', '180', '290', '84', '198', '16', '299', '311', '76', '341', '104', '188', '62', '122', '92', '5', '284', '160', '247', '232', '109', '73', '212', '318', '336', '87', '21', '342', '324', '323', '301', '252', '170', '156', '345', '7', '194', '168', '189', '47', '199', '325', '309'}\n",
      "community #1 :\n",
      "{'279', '6', '262', '14', '86', '147', '140', '154', '95', '157', '310', '227', '319', '245', '70', '124', '151', '110', '337', '44', '2', '175', '255', '219', '91', '116', '23', '225', '289', '155', '243', '131', '17', '71', '278', '267', '216', '174', '241', '52', '93', '264', '321', '46', '327', '89', '201', '137', '49', '61', '230', '111', '8', '162', '32', '192', '293', '115', '226', '28', '149', '99', '20', '19', '35', '296', '102', '144', '305', '259', '177', '68', '326', '112', '182', '263', '333', '41', '214', '220', '138', '143', '312', '193', '307', '253', '167', '205', '240', '97', '343'}\n",
      "community #2 :\n",
      "{'78', '4', '306', '328', '195', '273', '152', '181', '218', '275'}\n"
     ]
    }
   ],
   "source": [
    "run_communities_algorithm('communities.txt', newman_girvan, 3)"
   ]
  },
  {
   "cell_type": "markdown",
   "metadata": {},
   "source": [
    "### Q2\n",
    "a. Implement k-clique communities detection algorithm. The algorithm should receive a network and parameter k and return the communities."
   ]
  },
  {
   "cell_type": "code",
   "execution_count": 23,
   "metadata": {},
   "outputs": [],
   "source": [
    "def k_clique_communities(g, k):\n",
    "    '''\n",
    "    A k-clique community ditection implementation using percolation method (Palla et al. 2005).\n",
    "    1. Find all maximal cliques\n",
    "    2. Create clique overlap matrix\n",
    "    3. Threshold matrix with k-1\n",
    "    4. Communities are connected components\n",
    "    '''\n",
    "    maximal_cliques = [frozenset(c) for c in nx.find_cliques(g)] #step (1) - find all maximal cliques.\n",
    "    mat = create_threshold_clique_overlap_matrix(maximal_cliques, k) #steps (2), (3).\n",
    "    communities = find_communities_as_cc(maximal_cliques, mat) #step (4)\n",
    "    return communities\n",
    "\n",
    "def create_threshold_clique_overlap_matrix(maximal_cliques, k):\n",
    "    #instead of creating the overlap matrix as an intermediate step,\n",
    "    #we create the final threshold matrix.\n",
    "    mat = [] #the threshold clique overlap matrix.\n",
    "    for clique_1 in maximal_cliques:\n",
    "        mat.append([]) #add column to the threshold clique overlap matrix.\n",
    "        if len(clique_1) < k: #the threshold is k-1 and cliques with size under k can't pass it.\n",
    "            for i in range(len(maximal_cliques)):\n",
    "                mat[-1].append(0)\n",
    "            #this way there is no need to check the diagonal values with a threshold k,\n",
    "            #while in other cells we use threshold of k-1.\n",
    "        else: #len(clique1) >= k\n",
    "            for clique_2 in maximal_cliques:\n",
    "                val = 0\n",
    "                intersection = len(clique_1.intersection(clique_2))\n",
    "                if intersection >= k-1: #the threshold is k-1.\n",
    "                    val = 1\n",
    "                mat[-1].append(val)\n",
    "    return mat\n",
    "\n",
    "def find_communities_as_cc(maximal_cliques, mat):\n",
    "    cc_g = nx.Graph()\n",
    "    #a new graph for connected components derived from the threshold clique overlap matrix.\n",
    "    for row, clique_1 in enumerate(maximal_cliques):\n",
    "        for col, clique_2 in enumerate(maximal_cliques):\n",
    "            if int(mat[row][col]) == 1:\n",
    "                cc_g.add_edge(clique_1, clique_2)\n",
    "    communities = [frozenset.union(*connected_component) for connected_component in nx.connected_components(cc_g)]\n",
    "    return communities\n"
   ]
  },
  {
   "cell_type": "markdown",
   "metadata": {},
   "source": [
    "b. Run this algorithm on the biggest connected component of the following dataset: https://bit.ly/2KLHN60 (with k=4)."
   ]
  },
  {
   "cell_type": "code",
   "execution_count": 24,
   "metadata": {},
   "outputs": [
    {
     "name": "stdout",
     "output_type": "stream",
     "text": [
      "The communities found by K Clique Communities are:\n",
      "community #0 :\n",
      "{'79', '30', '257', '69', '119', '77', '268', '272', '236', '118', '208', '265', '161', '332', '36', '94', '184', '64', '38', '203', '53', '142', '276', '85', '40', '315', '130', '303', '106', '213', '26', '291', '135', '217', '80', '223', '148', '72', '98', '248', '204', '339', '322', '48', '185', '221', '281', '251', '108', '136', '54', '126', '123', '274', '163', '141', '57', '165', '196', '334', '176', '313', '330', '308', '229', '254', '31', '88', '249', '200', '338', '280', '150', '329', '10', '172', '242', '63', '25', '55', '158', '246', '317', '50', '340', '300', '222', '105', '238', '1', '39', '128', '186', '146', '75', '60', '271', '285', '344', '113', '56', '346', '239', '103', '159', '139', '224', '13', '258', '24', '171', '133', '134', '231', '96', '297', '320', '3', '9', '295', '29', '82', '302', '298', '59', '187', '178', '65', '250', '261', '101', '121', '66', '67', '197', '314', '347', '27', '129', '127', '169', '211', '22', '45', '266', '100', '304', '277', '331', '180', '132', '290', '84', '16', '299', '341', '104', '188', '62', '122', '92', '284', '5', '232', '109', '73', '212', '318', '87', '21', '342', '324', '323', '252', '170', '194', '7', '345', '156', '189', '168', '199', '325', '309'}\n",
      "community #1 :\n",
      "{'137', '111', '14', '326', '243', '214', '140', '333', '41', '17', '162', '310', '312', '32', '151', '337', '226', '115', '44', '28', '149', '93', '2', '167', '20', '343', '19', '116', '144'}\n",
      "community #2 :\n",
      "{'225', '177', '68', '86', '99', '23', '263', '131', '175', '227', '278', '143', '46', '296', '102'}\n",
      "community #3 :\n",
      "{'95', '6', '89', '327', '319', '219', '147'}\n",
      "community #4 :\n",
      "{'51', '25', '84', '237', '83', '31', '23'}\n",
      "community #5 :\n",
      "{'220', '312', '262', '115'}\n",
      "community #6 :\n",
      "{'78', '4', '306', '328', '195', '273', '152', '181', '218', '275'}\n",
      "community #7 :\n",
      "{'201', '259', '110', '193', '8', '264', '91', '245'}\n",
      "community #8 :\n",
      "{'5', '235', '156', '122'}\n"
     ]
    }
   ],
   "source": [
    "run_communities_algorithm('communities.txt', k_clique_communities, 4)"
   ]
  }
 ],
 "metadata": {
  "interpreter": {
   "hash": "266e256aaaab81cba854d487b62b76c015b6c94bbe4157c3c0f5e4cfc2ba71d8"
  },
  "kernelspec": {
   "display_name": "Python 3.8.8 64-bit ('base': conda)",
   "language": "python",
   "name": "python3"
  },
  "language_info": {
   "codemirror_mode": {
    "name": "ipython",
    "version": 3
   },
   "file_extension": ".py",
   "mimetype": "text/x-python",
   "name": "python",
   "nbconvert_exporter": "python",
   "pygments_lexer": "ipython3",
   "version": "3.10.0"
  },
  "orig_nbformat": 4
 },
 "nbformat": 4,
 "nbformat_minor": 2
}
